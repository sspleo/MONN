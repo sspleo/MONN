{
 "cells": [
  {
   "cell_type": "code",
   "execution_count": 17,
   "metadata": {},
   "outputs": [],
   "source": [
    "from collections import defaultdict\n",
    "import os\n",
    "import pickle\n",
    "import sys\n",
    "import numpy as np\n",
    "from rdkit import Chem\n",
    "from rdkit.Chem import AllChem\n",
    "from rdkit import DataStructs\n",
    "from rdkit.ML.Cluster import Butina\n",
    "from scipy.cluster.hierarchy import fcluster, linkage, single\n",
    "from scipy.spatial.distance import pdist"
   ]
  },
  {
   "cell_type": "code",
   "execution_count": 34,
   "metadata": {},
   "outputs": [],
   "source": [
    "import networkx as nx\n",
    "from networkx.algorithms import bipartite\n",
    "import matplotlib.pyplot as plt\n",
    "import pylab"
   ]
  },
  {
   "cell_type": "code",
   "execution_count": 38,
   "metadata": {},
   "outputs": [],
   "source": [
    "B = nx.Graph()\n",
    "## node list of bipartite 0\n",
    "B.add_nodes_from(['A', 'B', 'C', 'D'], bipartite = 0)\n",
    "## node list of bipartite 1\n",
    "B.add_nodes_from([1,2,3], bipartite=1)\n",
    "\n",
    "## add edges between them\n",
    "B.add_edges_from([('A',1),('A',2), ('B',1), ('C',1), ('D',1),('D',2),('D',3)])"
   ]
  },
  {
   "cell_type": "code",
   "execution_count": 76,
   "metadata": {},
   "outputs": [],
   "source": [
    "G = nx.Graph()\n",
    "G.add_nodes_from(valid_cid_list, bipartite = 0)\n",
    "G.add_nodes_from(valid_pid_list, bipartite = 1)\n",
    "G.add_edges_from(valid_pair_list)"
   ]
  },
  {
   "cell_type": "code",
   "execution_count": 77,
   "metadata": {},
   "outputs": [],
   "source": [
    "G_top = valid_cid_list\n",
    "G_pos = nx.bipartite_layout(G, G_top)"
   ]
  },
  {
   "cell_type": "code",
   "execution_count": 78,
   "metadata": {},
   "outputs": [],
   "source": [
    "color_map = []\n",
    "for element in G:\n",
    "    if element in G_top:\n",
    "        color_map.append('red')\n",
    "    else:\n",
    "        color_map.append('green')"
   ]
  },
  {
   "cell_type": "code",
   "execution_count": 124,
   "metadata": {},
   "outputs": [],
   "source": [
    "def save_graph(graph,file_name):\n",
    "    #initialze Figure\n",
    "    plt.figure(num=None, figsize=(50, 50), dpi=120)\n",
    "    plt.axis('off')\n",
    "    fig = plt.figure(1)\n",
    "    pos = G_pos\n",
    "    #pos = B_pos\n",
    "    nx.draw_networkx_nodes(graph,pos)\n",
    "    nx.draw_networkx_edges(graph,pos)\n",
    "    nx.draw_networkx_labels(graph,pos)\n",
    "\n",
    "    cut = 1.00\n",
    "    xmax = cut * max(xx for xx, yy in pos.values())\n",
    "    ymax = cut * max(yy for xx, yy in pos.values())\n",
    "    plt.xlim(-1, xmax + 0.5)\n",
    "    plt.ylim(-1, ymax+0.2)\n",
    "\n",
    "    plt.savefig(file_name,bbox_inches=\"tight\")\n",
    "    pylab.close()\n",
    "    del fig"
   ]
  },
  {
   "cell_type": "code",
   "execution_count": 123,
   "metadata": {},
   "outputs": [],
   "source": [
    "save_graph(B, 'my_graph.pdf')"
   ]
  },
  {
   "cell_type": "code",
   "execution_count": 125,
   "metadata": {},
   "outputs": [],
   "source": [
    "save_graph(G,\"my_graph.pdf\")\n"
   ]
  },
  {
   "cell_type": "code",
   "execution_count": 29,
   "metadata": {},
   "outputs": [
    {
     "data": {
      "text/plain": [
       "<Figure size 6400x4800 with 0 Axes>"
      ]
     },
     "execution_count": 29,
     "metadata": {},
     "output_type": "execute_result"
    },
    {
     "data": {
      "text/plain": [
       "<Figure size 6400x4800 with 0 Axes>"
      ]
     },
     "metadata": {},
     "output_type": "display_data"
    }
   ],
   "source": [
    "plt.figure(num=None, figsize=(80, 60), dpi=80, facecolor='w', edgecolor='k')"
   ]
  },
  {
   "cell_type": "code",
   "execution_count": 14,
   "metadata": {},
   "outputs": [
    {
     "name": "stdout",
     "output_type": "stream",
     "text": [
      "Help on function draw_networkx in module networkx.drawing.nx_pylab:\n",
      "\n",
      "draw_networkx(G, pos=None, arrows=True, with_labels=True, **kwds)\n",
      "    Draw the graph G using Matplotlib.\n",
      "    \n",
      "    Draw the graph with Matplotlib with options for node positions,\n",
      "    labeling, titles, and many other drawing features.\n",
      "    See draw() for simple drawing without labels or axes.\n",
      "    \n",
      "    Parameters\n",
      "    ----------\n",
      "    G : graph\n",
      "       A networkx graph\n",
      "    \n",
      "    pos : dictionary, optional\n",
      "       A dictionary with nodes as keys and positions as values.\n",
      "       If not specified a spring layout positioning will be computed.\n",
      "       See :py:mod:`networkx.drawing.layout` for functions that\n",
      "       compute node positions.\n",
      "    \n",
      "    arrows : bool, optional (default=True)\n",
      "       For directed graphs, if True draw arrowheads.\n",
      "       Note: Arrows will be the same color as edges.\n",
      "    \n",
      "    arrowstyle : str, optional (default='-|>')\n",
      "        For directed graphs, choose the style of the arrowsheads.\n",
      "        See :py:class: `matplotlib.patches.ArrowStyle` for more\n",
      "        options.\n",
      "    \n",
      "    arrowsize : int, optional (default=10)\n",
      "       For directed graphs, choose the size of the arrow head head's length and\n",
      "       width. See :py:class: `matplotlib.patches.FancyArrowPatch` for attribute\n",
      "       `mutation_scale` for more info.\n",
      "    \n",
      "    with_labels :  bool, optional (default=True)\n",
      "       Set to True to draw labels on the nodes.\n",
      "    \n",
      "    ax : Matplotlib Axes object, optional\n",
      "       Draw the graph in the specified Matplotlib axes.\n",
      "    \n",
      "    nodelist : list, optional (default G.nodes())\n",
      "       Draw only specified nodes\n",
      "    \n",
      "    edgelist : list, optional (default=G.edges())\n",
      "       Draw only specified edges\n",
      "    \n",
      "    node_size : scalar or array, optional (default=300)\n",
      "       Size of nodes.  If an array is specified it must be the\n",
      "       same length as nodelist.\n",
      "    \n",
      "    node_color : color string, or array of floats, (default='r')\n",
      "       Node color. Can be a single color format string,\n",
      "       or a  sequence of colors with the same length as nodelist.\n",
      "       If numeric values are specified they will be mapped to\n",
      "       colors using the cmap and vmin,vmax parameters.  See\n",
      "       matplotlib.scatter for more details.\n",
      "    \n",
      "    node_shape :  string, optional (default='o')\n",
      "       The shape of the node.  Specification is as matplotlib.scatter\n",
      "       marker, one of 'so^>v<dph8'.\n",
      "    \n",
      "    alpha : float, optional (default=1.0)\n",
      "       The node and edge transparency\n",
      "    \n",
      "    cmap : Matplotlib colormap, optional (default=None)\n",
      "       Colormap for mapping intensities of nodes\n",
      "    \n",
      "    vmin,vmax : float, optional (default=None)\n",
      "       Minimum and maximum for node colormap scaling\n",
      "    \n",
      "    linewidths : [None | scalar | sequence]\n",
      "       Line width of symbol border (default =1.0)\n",
      "    \n",
      "    width : float, optional (default=1.0)\n",
      "       Line width of edges\n",
      "    \n",
      "    edge_color : color string, or array of floats (default='r')\n",
      "       Edge color. Can be a single color format string,\n",
      "       or a sequence of colors with the same length as edgelist.\n",
      "       If numeric values are specified they will be mapped to\n",
      "       colors using the edge_cmap and edge_vmin,edge_vmax parameters.\n",
      "    \n",
      "    edge_cmap : Matplotlib colormap, optional (default=None)\n",
      "       Colormap for mapping intensities of edges\n",
      "    \n",
      "    edge_vmin,edge_vmax : floats, optional (default=None)\n",
      "       Minimum and maximum for edge colormap scaling\n",
      "    \n",
      "    style : string, optional (default='solid')\n",
      "       Edge line style (solid|dashed|dotted,dashdot)\n",
      "    \n",
      "    labels : dictionary, optional (default=None)\n",
      "       Node labels in a dictionary keyed by node of text labels\n",
      "    \n",
      "    font_size : int, optional (default=12)\n",
      "       Font size for text labels\n",
      "    \n",
      "    font_color : string, optional (default='k' black)\n",
      "       Font color string\n",
      "    \n",
      "    font_weight : string, optional (default='normal')\n",
      "       Font weight\n",
      "    \n",
      "    font_family : string, optional (default='sans-serif')\n",
      "       Font family\n",
      "    \n",
      "    label : string, optional\n",
      "        Label for graph legend\n",
      "    \n",
      "    Notes\n",
      "    -----\n",
      "    For directed graphs, arrows  are drawn at the head end.  Arrows can be\n",
      "    turned off with keyword arrows=False.\n",
      "    \n",
      "    Examples\n",
      "    --------\n",
      "    >>> G = nx.dodecahedral_graph()\n",
      "    >>> nx.draw(G)\n",
      "    >>> nx.draw(G, pos=nx.spring_layout(G))  # use spring layout\n",
      "    \n",
      "    >>> import matplotlib.pyplot as plt\n",
      "    >>> limits = plt.axis('off')  # turn of axis\n",
      "    \n",
      "    Also see the NetworkX drawing examples at\n",
      "    https://networkx.github.io/documentation/latest/auto_examples/index.html\n",
      "    \n",
      "    See Also\n",
      "    --------\n",
      "    draw()\n",
      "    draw_networkx_nodes()\n",
      "    draw_networkx_edges()\n",
      "    draw_networkx_labels()\n",
      "    draw_networkx_edge_labels()\n",
      "\n"
     ]
    }
   ],
   "source": [
    "help(nx.draw_networkx)"
   ]
  },
  {
   "cell_type": "code",
   "execution_count": 30,
   "metadata": {},
   "outputs": [
    {
     "data": {
      "image/png": "[encoded data removed]",
      "text/plain": [
       "<Figure size 432x288 with 1 Axes>"
      ]
     },
     "metadata": {
      "needs_background": "light"
     },
     "output_type": "display_data"
    }
   ],
   "source": [
    "nx.draw_networkx(G, pos = G_pos, node_color = color_map, with_labels=False)"
   ]
  },
  {
   "cell_type": "code",
   "execution_count": 23,
   "metadata": {},
   "outputs": [
    {
     "data": {
      "text/plain": [
       "True"
      ]
     },
     "execution_count": 23,
     "metadata": {},
     "output_type": "execute_result"
    }
   ],
   "source": [
    "#Check if B is bipartite set\n",
    "bipartite.is_bipartite(B)"
   ]
  },
  {
   "cell_type": "code",
   "execution_count": 39,
   "metadata": {},
   "outputs": [],
   "source": [
    "set0 = bipartite.sets(B)[0]"
   ]
  },
  {
   "cell_type": "code",
   "execution_count": 40,
   "metadata": {},
   "outputs": [],
   "source": [
    "top = nx.bipartite.sets(B)[0]"
   ]
  },
  {
   "cell_type": "code",
   "execution_count": 46,
   "metadata": {},
   "outputs": [],
   "source": [
    "B_pos = nx.bipartite_layout(B,top)"
   ]
  },
  {
   "cell_type": "code",
   "execution_count": 42,
   "metadata": {},
   "outputs": [],
   "source": [
    "color_map = []\n",
    "for node in B:\n",
    "    if node in set0:\n",
    "        color_map.append('red')\n",
    "    else:\n",
    "        color_map.append('green')"
   ]
  },
  {
   "cell_type": "code",
   "execution_count": 48,
   "metadata": {},
   "outputs": [],
   "source": []
  },
  {
   "cell_type": "code",
   "execution_count": null,
   "metadata": {},
   "outputs": [],
   "source": []
  },
  {
   "cell_type": "code",
   "execution_count": 10,
   "metadata": {},
   "outputs": [
    {
     "data": {
      "image/png": "[encoded data removed]",
      "text/plain": [
       "<Figure size 432x288 with 1 Axes>"
      ]
     },
     "metadata": {
      "needs_background": "light"
     },
     "output_type": "display_data"
    }
   ],
   "source": [
    "nx.draw_networkx(B, pos = pos, node_color = color_map, with_labels=True, font_weight = 'bold')"
   ]
  },
  {
   "cell_type": "code",
   "execution_count": null,
   "metadata": {},
   "outputs": [],
   "source": []
  },
  {
   "cell_type": "code",
   "execution_count": null,
   "metadata": {},
   "outputs": [],
   "source": []
  },
  {
   "cell_type": "code",
   "execution_count": null,
   "metadata": {},
   "outputs": [],
   "source": []
  },
  {
   "cell_type": "code",
   "execution_count": null,
   "metadata": {},
   "outputs": [],
   "source": []
  },
  {
   "cell_type": "code",
   "execution_count": 20,
   "metadata": {},
   "outputs": [],
   "source": [
    "elem_list = ['C', 'N', 'O', 'S', 'F', 'Si', 'P', 'Cl', 'Br', 'Mg', 'Na', 'Ca', 'Fe', 'As', 'Al', 'I', 'B', 'V', 'K', 'Tl', 'Yb', 'Sb', 'Sn', 'Ag', 'Pd', 'Co', 'Se', 'Ti', 'Zn', 'H', 'Li', 'Ge', 'Cu', 'Au', 'Ni', 'Cd', 'In', 'Mn', 'Zr', 'Cr', 'Pt', 'Hg', 'Pb', 'W', 'Ru', 'Nb', 'Re', 'Te', 'Rh', 'Tc', 'Ba', 'Bi', 'Hf', 'Mo', 'U', 'Sm', 'Os', 'Ir', 'Ce','Gd','Ga','Cs', 'unknown']\n",
    "aa_list = ['A', 'C', 'D', 'E', 'F', 'G', 'H', 'I', 'K', 'L', 'M', 'N', 'P', 'Q', 'R', 'S', 'T', 'V', 'W', 'Y']\n",
    "atom_fdim = len(elem_list) + 6 + 6 + 6 + 1\n",
    "bond_fdim = 6\n",
    "max_nb = 6\n",
    "\n",
    "\n",
    "def onek_encoding_unk(x, allowable_set):\n",
    "    if x not in allowable_set:\n",
    "        x = allowable_set[-1]\n",
    "    return list(map(lambda s: x == s, allowable_set))\n",
    "\n",
    "\n",
    "def atom_features(atom):\n",
    "    return np.array(onek_encoding_unk(atom.GetSymbol(), elem_list) \n",
    "            + onek_encoding_unk(atom.GetDegree(), [0,1,2,3,4,5]) \n",
    "            + onek_encoding_unk(atom.GetExplicitValence(), [1,2,3,4,5,6])\n",
    "            + onek_encoding_unk(atom.GetImplicitValence(), [0,1,2,3,4,5])\n",
    "            + [atom.GetIsAromatic()], dtype=np.float32)\n",
    "\n",
    "\n",
    "def bond_features(bond):\n",
    "    bt = bond.GetBondType()\n",
    "    return np.array([bt == Chem.rdchem.BondType.SINGLE, bt == Chem.rdchem.BondType.DOUBLE, bt == Chem.rdchem.BondType.TRIPLE, \\\n",
    "    bt == Chem.rdchem.BondType.AROMATIC, bond.GetIsConjugated(), bond.IsInRing()], dtype=np.float32)\n",
    "\n",
    "\n",
    "def Mol2Graph(mol):\n",
    "    # convert molecule to GNN input\n",
    "    idxfunc=lambda x:x.GetIdx()\n",
    "\n",
    "    n_atoms = mol.GetNumAtoms()\n",
    "    assert mol.GetNumBonds() >= 0\n",
    "\n",
    "    n_bonds = max(mol.GetNumBonds(), 1)\n",
    "    fatoms = np.zeros((n_atoms,), dtype=np.int32) #atom feature ID\n",
    "    fbonds = np.zeros((n_bonds,), dtype=np.int32) #bond feature ID\n",
    "    atom_nb = np.zeros((n_atoms, max_nb), dtype=np.int32)\n",
    "    bond_nb = np.zeros((n_atoms, max_nb), dtype=np.int32)\n",
    "    num_nbs = np.zeros((n_atoms,), dtype=np.int32)\n",
    "    num_nbs_mat = np.zeros((n_atoms,max_nb), dtype=np.int32)\n",
    "\n",
    "    for atom in mol.GetAtoms():\n",
    "        idx = idxfunc(atom)\n",
    "        fatoms[idx] = atom_dict[''.join(str(x) for x in atom_features(atom).astype(int).tolist())] \n",
    "\n",
    "    for bond in mol.GetBonds():\n",
    "        a1 = idxfunc(bond.GetBeginAtom())\n",
    "        a2 = idxfunc(bond.GetEndAtom())\n",
    "        idx = bond.GetIdx()\n",
    "        fbonds[idx] = bond_dict[''.join(str(x) for x in bond_features(bond).astype(int).tolist())] \n",
    "        try:\n",
    "            atom_nb[a1,num_nbs[a1]] = a2\n",
    "            atom_nb[a2,num_nbs[a2]] = a1\n",
    "        except:\n",
    "            return [], [], [], [], []\n",
    "        bond_nb[a1,num_nbs[a1]] = idx\n",
    "        bond_nb[a2,num_nbs[a2]] = idx\n",
    "        num_nbs[a1] += 1\n",
    "        num_nbs[a2] += 1\n",
    "        \n",
    "    for i in range(len(num_nbs)):\n",
    "        num_nbs_mat[i,:num_nbs[i]] = 1\n",
    "\n",
    "    return fatoms, fbonds, atom_nb, bond_nb, num_nbs_mat\n",
    "\n",
    "\n",
    "def Batch_Mol2Graph(mol_list):\n",
    "    res = list(map(lambda x:Mol2Graph(x), mol_list))\n",
    "    fatom_list, fbond_list, gatom_list, gbond_list, nb_list = zip(*res)\n",
    "    return fatom_list, fbond_list, gatom_list, gbond_list, nb_list\n",
    "\n",
    "\n",
    "def Protein2Sequence(sequence, ngram=1):\n",
    "    # convert sequence to CNN input\n",
    "    sequence = sequence.upper()\n",
    "    word_list = [sequence[i:i+ngram] for i in range(len(sequence)-ngram+1)]\n",
    "    output = []\n",
    "    for word in word_list:\n",
    "        if word not in aa_list:\n",
    "            output.append(word_dict['X'])\n",
    "        else:\n",
    "            output.append(word_dict[word])\n",
    "    if ngram == 3:\n",
    "        output = [-1]+output+[-1] # pad\n",
    "    return np.array(output, np.int32)\n",
    "\n",
    "\n",
    "def Batch_Protein2Sequence(sequence_list, ngram=3):\n",
    "    res = list(map(lambda x:Protein2Sequence(x,ngram), sequence_list))\n",
    "    return res\n",
    "\n",
    "\n",
    "def get_mol_dict():\n",
    "    if os.path.exists('../data/mol_dict'):\n",
    "        with open('../data/mol_dict') as f:\n",
    "            mol_dict = pickle.load(f)\n",
    "    else:\n",
    "        mol_dict = {}\n",
    "        mols = Chem.SDMolSupplier('../data/Components-pub.sdf')\n",
    "        for m in mols:\n",
    "            if m is None:\n",
    "                continue\n",
    "            name = m.GetProp(\"_Name\")\n",
    "            mol_dict[name] = m\n",
    "        with open('../data/mol_dict', 'wb') as f:\n",
    "            pickle.dump(mol_dict, f)\n",
    "    #print('mol_dict',len(mol_dict))\n",
    "    return mol_dict\n",
    "\n",
    "\n",
    "def get_pairwise_label(pdbid, interaction_dict):\n",
    "    if pdbid in interaction_dict:\n",
    "        sdf_element = np.array([atom.GetSymbol().upper() for atom in mol.GetAtoms()])\n",
    "        atom_element = np.array(interaction_dict[pdbid]['atom_element'], dtype=str)\n",
    "        atom_name_list = np.array(interaction_dict[pdbid]['atom_name'], dtype=str)\n",
    "        atom_interact = np.array(interaction_dict[pdbid]['atom_interact'], dtype=int)\n",
    "        nonH_position = np.where(atom_element != ('H'))[0]\n",
    "        assert sum(atom_element[nonH_position] != sdf_element) == 0\n",
    "        \n",
    "        atom_name_list = atom_name_list[nonH_position].tolist()\n",
    "        pairwise_mat = np.zeros((len(nonH_position), len(interaction_dict[pdbid]['uniprot_seq'])), dtype=np.int32)\n",
    "        for atom_name, bond_type in interaction_dict[pdbid]['atom_bond_type']:\n",
    "            atom_idx = atom_name_list.index(str(atom_name))\n",
    "            assert atom_idx < len(nonH_position)\n",
    "            \n",
    "            seq_idx_list = []\n",
    "            for seq_idx, bond_type_seq in interaction_dict[pdbid]['residue_bond_type']:\n",
    "                if bond_type == bond_type_seq:\n",
    "                    seq_idx_list.append(seq_idx)\n",
    "                    pairwise_mat[atom_idx, seq_idx] = 1\n",
    "        if len(np.where(pairwise_mat != 0)[0]) != 0:\n",
    "            pairwise_mask = True\n",
    "            return True, pairwise_mat\n",
    "    return False, np.zeros((1,1))\n",
    "\n",
    "\n",
    "def get_fps(mol_list):\n",
    "    fps = []\n",
    "    for mol in mol_list:\n",
    "        fp = AllChem.GetMorganFingerprintAsBitVect(mol,2,nBits=1024,useChirality=True)\n",
    "        fps.append(fp)\n",
    "    #print('fingerprint list',len(fps))\n",
    "    return fps\n",
    "\n",
    "\n",
    "def calculate_sims(fps1,fps2,simtype='tanimoto'):\n",
    "    sim_mat = np.zeros((len(fps1),len(fps2))) #,dtype=np.float32)\n",
    "    for i in range(len(fps1)):\n",
    "        fp_i = fps1[i]\n",
    "        if simtype == 'tanimoto':\n",
    "            sims = DataStructs.BulkTanimotoSimilarity(fp_i,fps2)\n",
    "        elif simtype == 'dice':\n",
    "            sims = DataStructs.BulkDiceSimilarity(fp_i,fps2)\n",
    "        sim_mat[i,:] = sims\n",
    "    return sim_mat\n",
    "\n",
    "\n",
    "def compound_clustering(ligand_list, mol_list):\n",
    "    print 'start compound clustering...'\n",
    "    fps = get_fps(mol_list)\n",
    "    sim_mat = calculate_sims(fps, fps)\n",
    "    #np.save('../preprocessing/'+MEASURE+'_compound_sim_mat.npy', sim_mat)\n",
    "    print 'compound sim mat', sim_mat.shape\n",
    "    C_dist = pdist(fps, 'jaccard')\n",
    "    C_link = single(C_dist)\n",
    "    for thre in [0.3, 0.4, 0.5, 0.6]:\n",
    "        C_clusters = fcluster(C_link, thre, 'distance')\n",
    "        len_list = []\n",
    "        for i in range(1,max(C_clusters)+1):\n",
    "            len_list.append(C_clusters.tolist().count(i))\n",
    "        print 'thre', thre, 'total num of compounds', len(ligand_list), 'num of clusters', max(C_clusters), 'max length', max(len_list)\n",
    "        C_cluster_dict = {ligand_list[i]:C_clusters[i] for i in range(len(ligand_list))}\n",
    "        with open('../preprocessing/'+MEASURE+'_compound_cluster_dict_'+str(thre),'wb') as f:\n",
    "            pickle.dump(C_cluster_dict, f, protocol=0)\n",
    "\n",
    "\n",
    "def protein_clustering(protein_list, idx_list):\n",
    "    print 'start protein clustering...'\n",
    "    protein_sim_mat = np.load('../data/pdbbind_protein_sim_mat.npy').astype(np.float32)\n",
    "    sim_mat = protein_sim_mat[idx_list, :]\n",
    "    sim_mat = sim_mat[:, idx_list]\n",
    "    print 'original protein sim_mat', protein_sim_mat.shape, 'subset sim_mat', sim_mat.shape\n",
    "    #np.save('../preprocessing/'+MEASURE+'_protein_sim_mat.npy', sim_mat)\n",
    "    P_dist = []\n",
    "    for i in range(sim_mat.shape[0]):\n",
    "        P_dist += (1-sim_mat[i,(i+1):]).tolist()\n",
    "    P_dist = np.array(P_dist)\n",
    "    P_link = single(P_dist)\n",
    "    for thre in [0.3, 0.4, 0.5, 0.6]:\n",
    "        P_clusters = fcluster(P_link, thre, 'distance')\n",
    "        len_list = []\n",
    "        for i in range(1,max(P_clusters)+1):\n",
    "            len_list.append(P_clusters.tolist().count(i))\n",
    "        print 'thre', thre, 'total num of proteins', len(protein_list), 'num of clusters', max(P_clusters), 'max length', max(len_list)\n",
    "        P_cluster_dict = {protein_list[i]:P_clusters[i] for i in range(len(protein_list))}\n",
    "        with open('../preprocessing/'+MEASURE+'_protein_cluster_dict_'+str(thre),'wb') as f:\n",
    "            pickle.dump(P_cluster_dict, f, protocol=0)\n",
    "\n",
    "def pickle_dump(dictionary, file_name):\n",
    "    pickle.dump(dict(dictionary), open(file_name, 'wb'), protocol=0)"
   ]
  },
  {
   "cell_type": "code",
   "execution_count": 21,
   "metadata": {},
   "outputs": [],
   "source": [
    "MEASURE = 'KIKD' # 'IC50' or 'KIKD'"
   ]
  },
  {
   "cell_type": "code",
   "execution_count": 22,
   "metadata": {},
   "outputs": [
    {
     "data": {
      "text/plain": [
       "20"
      ]
     },
     "execution_count": 22,
     "metadata": {},
     "output_type": "execute_result"
    }
   ],
   "source": [
    "mol_dict = get_mol_dict()\n",
    "with open('../data/out7_final_pairwise_interaction_dict','rb') as f:\n",
    "    interaction_dict = pickle.load(f)\n",
    "\n",
    "wlnn_train_list = []\n",
    "atom_dict = defaultdict(lambda: len(atom_dict))\n",
    "bond_dict = defaultdict(lambda: len(bond_dict))\n",
    "word_dict = defaultdict(lambda: len(word_dict))\n",
    "for aa in aa_list:\n",
    "    word_dict[aa]\n",
    "word_dict['X']\n"
   ]
  },
  {
   "cell_type": "code",
   "execution_count": 23,
   "metadata": {},
   "outputs": [
    {
     "name": "stdout",
     "output_type": "stream",
     "text": [
      "Step 2/5, generating labels...\n",
      "processed sample num 1000\n",
      "processed sample num 2000\n",
      "processed sample num 3000\n",
      "processed sample num 4000\n",
      "processed sample num 5000\n",
      "processed sample num 6000\n",
      "processed sample num 7000\n",
      "processed sample num 8000\n",
      "processed sample num 9000\n",
      "processed sample num 10000\n",
      "processed sample num 11000\n",
      "processed sample num 12000\n",
      "processed sample num 13000\n"
     ]
    }
   ],
   "source": [
    "i = 0\n",
    "pair_info_dict = {}\n",
    "f = open('../data/pdbbind_all_datafile.tsv')\n",
    "print 'Step 2/5, generating labels...'\n",
    "for line in f.readlines():\n",
    "    i += 1\n",
    "    if i % 1000 == 0:\n",
    "        print 'processed sample num', i\n",
    "    pdbid, pid, cid, inchi, seq, measure, label = line.strip().split('\\t')\n",
    "    # filter interaction type and invalid molecules\n",
    "    if MEASURE == 'All':\n",
    "        pass\n",
    "    elif MEASURE == 'KIKD':\n",
    "        if measure not in ['Ki', 'Kd']:\n",
    "            continue\n",
    "    elif measure != MEASURE:\n",
    "        continue\n",
    "    if cid not in mol_dict:\n",
    "        print 'ligand not in mol_dict'\n",
    "        continue\n",
    "    mol = mol_dict[cid]\n",
    "    \n",
    "    # get labels\n",
    "    value = float(label)\n",
    "    pairwise_mask, pairwise_mat = get_pairwise_label(pdbid, interaction_dict)\n",
    "    \n",
    "    # handle the condition when multiple PDB entries have the same Uniprot ID and Inchi\n",
    "    if inchi+' '+pid not in pair_info_dict:\n",
    "        pair_info_dict[inchi+' '+pid] = [pdbid, cid, pid, value, mol, seq, pairwise_mask, pairwise_mat]\n",
    "    else:\n",
    "        if pair_info_dict[inchi+' '+pid][6]:\n",
    "            if pairwise_mask and pair_info_dict[inchi+' '+pid][3] < value:\n",
    "                pair_info_dict[inchi+' '+pid] = [pdbid, cid, pid, value, mol, seq, pairwise_mask, pairwise_mat]\n",
    "        else:\n",
    "            if pair_info_dict[inchi+' '+pid][3] < value:\n",
    "                pair_info_dict[inchi+' '+pid] = [pdbid, cid, pid, value, mol, seq, pairwise_mask, pairwise_mat]\n",
    "f.close()\n"
   ]
  },
  {
   "cell_type": "code",
   "execution_count": 24,
   "metadata": {},
   "outputs": [
    {
     "name": "stderr",
     "output_type": "stream",
     "text": [
      "/Users/leoseo/opt/anaconda3/envs/p2env/lib/python2.7/site-packages/ipykernel_launcher.py:12: DeprecationWarning: elementwise comparison failed; this will raise an error in the future.\n",
      "  if sys.path[0] == '':\n"
     ]
    },
    {
     "name": "stdout",
     "output_type": "stream",
     "text": [
      "num of neighbor > 6,  84A\n",
      "num of neighbor > 6,  B1R\n",
      "num of neighbor > 6,  670\n",
      "num of neighbor > 6,  B9F\n",
      "num of neighbor > 6,  498\n",
      "num of neighbor > 6,  067\n"
     ]
    }
   ],
   "source": [
    "valid_value_list = []\n",
    "valid_cid_list = []\n",
    "valid_pid_list = []\n",
    "valid_pairwise_mask_list = []\n",
    "valid_pairwise_mat_list = []\n",
    "mol_inputs, seq_inputs = [], []\n",
    "\n",
    "# get inputs\n",
    "for item in pair_info_dict:\n",
    "    pdbid, cid, pid, value, mol, seq, pairwise_mask, pairwise_mat = pair_info_dict[item]\n",
    "    fa, fb, anb, bnb, nbs_mat = Mol2Graph(mol)\n",
    "    if fa==[]:\n",
    "        print 'num of neighbor > 6, ', cid\n",
    "        continue\n",
    "    mol_inputs.append([fa, fb, anb, bnb, nbs_mat])\n",
    "    seq_inputs.append(Protein2Sequence(seq,ngram=1))\n",
    "    valid_value_list.append(value)\n",
    "    valid_cid_list.append(cid)\n",
    "    valid_pid_list.append(pid)\n",
    "    valid_pairwise_mask_list.append(pairwise_mask)\n",
    "    valid_pairwise_mat_list.append(pairwise_mat)\n",
    "    wlnn_train_list.append(pdbid)\n"
   ]
  },
  {
   "cell_type": "code",
   "execution_count": 25,
   "metadata": {},
   "outputs": [],
   "source": [
    "valid_pair_list = []\n",
    "for i in range(len(valid_cid_list)):\n",
    "    pair = [valid_cid_list[i], valid_pid_list[i]]\n",
    "    valid_pair_list.append(pair)\n"
   ]
  },
  {
   "cell_type": "code",
   "execution_count": 63,
   "metadata": {},
   "outputs": [
    {
     "data": {
      "text/plain": [
       "6989"
      ]
     },
     "execution_count": 63,
     "metadata": {},
     "output_type": "execute_result"
    }
   ],
   "source": [
    "len(valid_pair_list)"
   ]
  },
  {
   "cell_type": "code",
   "execution_count": 126,
   "metadata": {},
   "outputs": [
    {
     "data": {
      "text/plain": [
       "6989"
      ]
     },
     "execution_count": 126,
     "metadata": {},
     "output_type": "execute_result"
    }
   ],
   "source": [
    "len(valid_cid_list)"
   ]
  },
  {
   "cell_type": "code",
   "execution_count": 129,
   "metadata": {},
   "outputs": [],
   "source": [
    "unique_cid_list = list(set(valid_cid_list))\n",
    "unique_pid_list = list(set(valid_pid_list))"
   ]
  },
  {
   "cell_type": "code",
   "execution_count": 132,
   "metadata": {},
   "outputs": [],
   "source": [
    "interaction_matrix = np.zeros((len(unique_cid_list), len(unique_pid_list)))"
   ]
  },
  {
   "cell_type": "code",
   "execution_count": 133,
   "metadata": {},
   "outputs": [
    {
     "data": {
      "text/plain": [
       "(5535, 2079)"
      ]
     },
     "execution_count": 133,
     "metadata": {},
     "output_type": "execute_result"
    }
   ],
   "source": [
    "interaction_matrix.shape"
   ]
  },
  {
   "cell_type": "code",
   "execution_count": 149,
   "metadata": {},
   "outputs": [
    {
     "data": {
      "text/plain": [
       "1559"
      ]
     },
     "execution_count": 149,
     "metadata": {},
     "output_type": "execute_result"
    }
   ],
   "source": [
    "unique_cid_list.index(valid_pair_list[0][0])"
   ]
  },
  {
   "cell_type": "code",
   "execution_count": 157,
   "metadata": {},
   "outputs": [],
   "source": [
    "for i in range(len(valid_pair_list)):\n",
    "    compound, protein = valid_pair_list[i]\n",
    "    cid_ind = unique_cid_list.index(compound)\n",
    "    pid_ind = unique_pid_list.index(protein)\n",
    "    interaction_matrix[cid_ind, pid_ind] = 1"
   ]
  },
  {
   "cell_type": "code",
   "execution_count": 170,
   "metadata": {},
   "outputs": [
    {
     "data": {
      "text/plain": [
       "5535"
      ]
     },
     "execution_count": 170,
     "metadata": {},
     "output_type": "execute_result"
    }
   ],
   "source": [
    "len(np.sum(interaction_matrix, 1))"
   ]
  },
  {
   "cell_type": "code",
   "execution_count": 168,
   "metadata": {},
   "outputs": [
    {
     "data": {
      "text/plain": [
       "56.0"
      ]
     },
     "execution_count": 168,
     "metadata": {},
     "output_type": "execute_result"
    }
   ],
   "source": [
    "max(np.sum(interaction_matrix, 1))"
   ]
  },
  {
   "cell_type": "code",
   "execution_count": 169,
   "metadata": {},
   "outputs": [
    {
     "data": {
      "text/plain": [
       "287.0"
      ]
     },
     "execution_count": 169,
     "metadata": {},
     "output_type": "execute_result"
    }
   ],
   "source": [
    "max(np.sum(interaction_matrix, 0))"
   ]
  },
  {
   "cell_type": "code",
   "execution_count": 295,
   "metadata": {},
   "outputs": [],
   "source": [
    "#compound-protein interaction number array\n",
    "compound_int_num = np.sum(interaction_matrix, 1)\n",
    "protein_int_num = np.sum(interaction_matrix, 0)"
   ]
  },
  {
   "cell_type": "code",
   "execution_count": 306,
   "metadata": {},
   "outputs": [],
   "source": [
    "#make every np.float to np.int\n",
    "compound_int_num = compound_int_num.astype(np.int64)\n",
    "protein_int_num = protein_int_num.astype(np.int64)"
   ]
  },
  {
   "cell_type": "code",
   "execution_count": null,
   "metadata": {},
   "outputs": [],
   "source": [
    "unique_cid_list[np.where(componund_int_num == 56)[0][0]]"
   ]
  },
  {
   "cell_type": "code",
   "execution_count": 339,
   "metadata": {},
   "outputs": [],
   "source": [
    "def int_num_to_id(cid_or_pid, int_num):\n",
    "    id_list = []\n",
    "    if cid_or_pid == 'cid':\n",
    "        arr = np.where(compound_int_num == int_num)[0]\n",
    "        for i in range(len(arr)):\n",
    "            cid = unique_cid_list[arr[i]]\n",
    "            id_list.append(cid)\n",
    "    elif cid_or_pid == 'pid':\n",
    "        arr = np.where(protein_int_num == int_num)[0]\n",
    "        for i in range(len(arr)):\n",
    "            pid = unique_pid_list[arr[i]]\n",
    "            id_list.append(pid)\n",
    "    else:\n",
    "        print 'error'\n",
    "    return id_list"
   ]
  },
  {
   "cell_type": "code",
   "execution_count": 354,
   "metadata": {},
   "outputs": [],
   "source": [
    "def get_filtered_list(cid_or_pid, thre):\n",
    "    if cid_or_pid == 'cid':\n",
    "        filtered_list = [i for i in Extract(c_list) if i >= thre]\n",
    "    elif cid_or_pid == 'pid':\n",
    "        filtered_list = [i for i in Extract(p_list) if i >= thre]\n",
    "    else:\n",
    "        print 'error'\n",
    "    return filtered_list\n"
   ]
  },
  {
   "cell_type": "code",
   "execution_count": 359,
   "metadata": {},
   "outputs": [
    {
     "data": {
      "text/plain": [
       "[25, 41, 44, 56]"
      ]
     },
     "execution_count": 359,
     "metadata": {},
     "output_type": "execute_result"
    }
   ],
   "source": [
    "get_filtered_list('cid', 4)"
   ]
  },
  {
   "cell_type": "code",
   "execution_count": null,
   "metadata": {},
   "outputs": [],
   "source": []
  },
  {
   "cell_type": "code",
   "execution_count": 360,
   "metadata": {},
   "outputs": [],
   "source": [
    "def get_filtered_id(cid_or_pid, thre):\n",
    "    flist = get_filtered_list(cid_or_pid, thre)\n",
    "    id_dict = {}\n",
    "    for i in range(len(flist)):\n",
    "        id_dict[flist[i]] = int_num_to_id(cid_or_pid, flist[i])\n",
    "    return id_dict        "
   ]
  },
  {
   "cell_type": "code",
   "execution_count": 365,
   "metadata": {},
   "outputs": [
    {
     "data": {
      "text/plain": [
       "{20: ['P68400', 'P9WPX7'],\n",
       " 21: ['P04585'],\n",
       " 22: ['P37231', 'Q04609', 'O96935'],\n",
       " 23: ['Q08638',\n",
       "  'O14757',\n",
       "  'P11086',\n",
       "  'P03372',\n",
       "  'P9WIL5',\n",
       "  'P29317',\n",
       "  'P11838',\n",
       "  'P11309'],\n",
       " 25: ['Q15370'],\n",
       " 26: ['O60674'],\n",
       " 28: ['Q8WSF8', 'P39900'],\n",
       " 29: ['P08709'],\n",
       " 30: ['O14965', 'Q9Y233'],\n",
       " 31: ['P24941', 'P28720'],\n",
       " 33: ['P00800', 'P19491'],\n",
       " 34: ['P61823'],\n",
       " 35: ['P00533'],\n",
       " 36: ['P03951'],\n",
       " 37: ['P03369'],\n",
       " 43: ['P02766', 'P03367', 'P00749'],\n",
       " 44: ['P18031'],\n",
       " 47: ['Q16539'],\n",
       " 55: ['P00489', 'P00811'],\n",
       " 61: ['O60885'],\n",
       " 62: ['P03366'],\n",
       " 71: ['P07900', 'P56817'],\n",
       " 83: ['P00742'],\n",
       " 107: ['P00760'],\n",
       " 128: ['P00734'],\n",
       " 287: ['P00918']}"
      ]
     },
     "execution_count": 365,
     "metadata": {},
     "output_type": "execute_result"
    }
   ],
   "source": [
    "get_filtered_id('pid', 20)"
   ]
  },
  {
   "cell_type": "code",
   "execution_count": 350,
   "metadata": {
    "scrolled": true
   },
   "outputs": [
    {
     "data": {
      "text/plain": [
       "[3, 4, 5, 6, 7, 8, 9, 10, 11, 12, 13, 15, 17, 19, 25, 41, 44, 56]"
      ]
     },
     "execution_count": 350,
     "metadata": {},
     "output_type": "execute_result"
    }
   ],
   "source": [
    "get_id_from_int_num('cid', 3)"
   ]
  },
  {
   "cell_type": "code",
   "execution_count": null,
   "metadata": {},
   "outputs": [],
   "source": [
    "for i in get_id_from_int_num('cid', 3):\n",
    "    int_num_to_id('pid', )"
   ]
  },
  {
   "cell_type": "code",
   "execution_count": null,
   "metadata": {},
   "outputs": [],
   "source": []
  },
  {
   "cell_type": "code",
   "execution_count": null,
   "metadata": {},
   "outputs": [],
   "source": []
  },
  {
   "cell_type": "code",
   "execution_count": null,
   "metadata": {},
   "outputs": [],
   "source": []
  },
  {
   "cell_type": "code",
   "execution_count": null,
   "metadata": {},
   "outputs": [],
   "source": []
  },
  {
   "cell_type": "code",
   "execution_count": 311,
   "metadata": {},
   "outputs": [
    {
     "data": {
      "text/plain": [
       "'P00918'"
      ]
     },
     "execution_count": 311,
     "metadata": {},
     "output_type": "execute_result"
    }
   ],
   "source": [
    "unique_pid_list[np.where(protein_int_num == 287)[0][0]]"
   ]
  },
  {
   "cell_type": "code",
   "execution_count": 346,
   "metadata": {},
   "outputs": [
    {
     "ename": "TypeError",
     "evalue": "int_num_to_id() takes exactly 2 arguments (1 given)",
     "output_type": "error",
     "traceback": [
      "\u001b[0;31m---------------------------------------------------------------------------\u001b[0m",
      "\u001b[0;31mTypeError\u001b[0m                                 Traceback (most recent call last)",
      "\u001b[0;32m<ipython-input-346-df1211cf06b2>\u001b[0m in \u001b[0;36m<module>\u001b[0;34m()\u001b[0m\n\u001b[0;32m----> 1\u001b[0;31m \u001b[0mint_num_to_id\u001b[0m\u001b[0;34m(\u001b[0m\u001b[0;34m'cid'\u001b[0m\u001b[0;34m,\u001b[0m \u001b[0;34m)\u001b[0m\u001b[0;34m\u001b[0m\u001b[0m\n\u001b[0m",
      "\u001b[0;31mTypeError\u001b[0m: int_num_to_id() takes exactly 2 arguments (1 given)"
     ]
    }
   ],
   "source": [
    "[i for i in Extract(c_list) if i >= 3]\n",
    "\n",
    "int_num_to_id('cid', )"
   ]
  },
  {
   "cell_type": "code",
   "execution_count": 340,
   "metadata": {},
   "outputs": [
    {
     "data": {
      "text/plain": [
       "['P00918']"
      ]
     },
     "execution_count": 340,
     "metadata": {},
     "output_type": "execute_result"
    }
   ],
   "source": [
    "int_num_to_id('pid', 287)"
   ]
  },
  {
   "cell_type": "code",
   "execution_count": 285,
   "metadata": {},
   "outputs": [
    {
     "data": {
      "text/plain": [
       "56"
      ]
     },
     "execution_count": 285,
     "metadata": {},
     "output_type": "execute_result"
    }
   ],
   "source": [
    "compound_int_num[4407]"
   ]
  },
  {
   "cell_type": "code",
   "execution_count": 294,
   "metadata": {},
   "outputs": [
    {
     "data": {
      "text/plain": [
       "'ADP'"
      ]
     },
     "execution_count": 294,
     "metadata": {},
     "output_type": "execute_result"
    }
   ],
   "source": [
    "unique_cid_list[np.where(compound_int_num == 56)[0][0]]"
   ]
  },
  {
   "cell_type": "code",
   "execution_count": 254,
   "metadata": {},
   "outputs": [
    {
     "data": {
      "text/plain": [
       "'ADP'"
      ]
     },
     "execution_count": 254,
     "metadata": {},
     "output_type": "execute_result"
    }
   ],
   "source": [
    "unique_cid_list[4407]"
   ]
  },
  {
   "cell_type": "code",
   "execution_count": 173,
   "metadata": {},
   "outputs": [
    {
     "data": {
      "text/plain": [
       "array([   0, 3567, 3566, ..., 1169,  603, 4407])"
      ]
     },
     "execution_count": 173,
     "metadata": {},
     "output_type": "execute_result"
    }
   ],
   "source": [
    "np.argsort(compound_int_num)"
   ]
  },
  {
   "cell_type": "code",
   "execution_count": 177,
   "metadata": {},
   "outputs": [
    {
     "data": {
      "text/plain": [
       "array([ 1.,  1.,  1., ..., 41., 44., 56.])"
      ]
     },
     "execution_count": 177,
     "metadata": {},
     "output_type": "execute_result"
    }
   ],
   "source": [
    "compound_int_num[np.argsort(compound_int_num)]"
   ]
  },
  {
   "cell_type": "code",
   "execution_count": 187,
   "metadata": {},
   "outputs": [
    {
     "data": {
      "text/plain": [
       "array([ 55.,  55.,  61.,  62.,  71.,  71.,  83., 107., 128., 287.])"
      ]
     },
     "execution_count": 187,
     "metadata": {},
     "output_type": "execute_result"
    }
   ],
   "source": [
    "protein_int_num[np.argsort(protein_int_num)][len(protein_int_num)-10:len(protein_int_num)]"
   ]
  },
  {
   "cell_type": "code",
   "execution_count": 183,
   "metadata": {},
   "outputs": [
    {
     "ename": "NameError",
     "evalue": "name 'index' is not defined",
     "output_type": "error",
     "traceback": [
      "\u001b[0;31m---------------------------------------------------------------------------\u001b[0m",
      "\u001b[0;31mNameError\u001b[0m                                 Traceback (most recent call last)",
      "\u001b[0;32m<ipython-input-183-216565c10318>\u001b[0m in \u001b[0;36m<module>\u001b[0;34m()\u001b[0m\n\u001b[0;32m----> 1\u001b[0;31m \u001b[0mindex\u001b[0m\u001b[0;34m.\u001b[0m\u001b[0mprotein_int_num\u001b[0m\u001b[0;34m[\u001b[0m\u001b[0mnp\u001b[0m\u001b[0;34m.\u001b[0m\u001b[0margsort\u001b[0m\u001b[0;34m(\u001b[0m\u001b[0mprotein_int_num\u001b[0m\u001b[0;34m)\u001b[0m\u001b[0;34m]\u001b[0m\u001b[0;34m\u001b[0m\u001b[0m\n\u001b[0m",
      "\u001b[0;31mNameError\u001b[0m: name 'index' is not defined"
     ]
    }
   ],
   "source": [
    "protein_int_num[np.argsort(protein_int_num)]"
   ]
  },
  {
   "cell_type": "code",
   "execution_count": 195,
   "metadata": {},
   "outputs": [],
   "source": [
    "import matplotlib.pyplot as plt\n",
    "from collections import Counter"
   ]
  },
  {
   "cell_type": "code",
   "execution_count": 243,
   "metadata": {},
   "outputs": [],
   "source": [
    "p = Counter(protein_int_num)\n",
    "c = Counter(compound_int_num)"
   ]
  },
  {
   "cell_type": "code",
   "execution_count": 244,
   "metadata": {},
   "outputs": [],
   "source": [
    "\n",
    "c_list = []\n",
    "p_list = []\n",
    "for i in range(len(c.keys())):\n",
    "    c_list.append([c.keys()[i],c.values()[i]])\n",
    "    \n",
    "p_list = []\n",
    "for i in range(len(p.keys())):\n",
    "    p_list.append([p.keys()[i],p.values()[i]])"
   ]
  },
  {
   "cell_type": "code",
   "execution_count": 246,
   "metadata": {},
   "outputs": [],
   "source": [
    "for i in range(len(c_list)):\n",
    "    c_list[i][0] = int(c_list[i][0])\n",
    "c_list.sort()"
   ]
  },
  {
   "cell_type": "code",
   "execution_count": 327,
   "metadata": {},
   "outputs": [],
   "source": [
    "def Extract(lst): \n",
    "    return [item[0] for item in lst]"
   ]
  },
  {
   "cell_type": "code",
   "execution_count": 328,
   "metadata": {},
   "outputs": [
    {
     "data": {
      "text/plain": [
       "[1, 2, 3, 4, 5, 6, 7, 8, 9, 10, 11, 12, 13, 15, 17, 19, 25, 41, 44, 56]"
      ]
     },
     "execution_count": 328,
     "metadata": {},
     "output_type": "execute_result"
    }
   ],
   "source": [
    "Extract(c_list)"
   ]
  },
  {
   "cell_type": "code",
   "execution_count": 344,
   "metadata": {},
   "outputs": [
    {
     "data": {
      "text/plain": [
       "[3, 4, 5, 6, 7, 8, 9, 10, 11, 12, 13, 15, 17, 19, 25, 41, 44, 56]"
      ]
     },
     "execution_count": 344,
     "metadata": {},
     "output_type": "execute_result"
    }
   ],
   "source": [
    "[i for i in Extract(c_list) if i >= 3]"
   ]
  },
  {
   "cell_type": "code",
   "execution_count": 326,
   "metadata": {},
   "outputs": [
    {
     "data": {
      "text/plain": [
       "[[1, 4895],\n",
       " [2, 384],\n",
       " [3, 121],\n",
       " [4, 53],\n",
       " [5, 21],\n",
       " [6, 19],\n",
       " [7, 10],\n",
       " [8, 8],\n",
       " [9, 5],\n",
       " [10, 4],\n",
       " [11, 3],\n",
       " [12, 2],\n",
       " [13, 3],\n",
       " [15, 1],\n",
       " [17, 1],\n",
       " [19, 1],\n",
       " [25, 1],\n",
       " [41, 1],\n",
       " [44, 1],\n",
       " [56, 1]]"
      ]
     },
     "execution_count": 326,
     "metadata": {},
     "output_type": "execute_result"
    }
   ],
   "source": [
    "c_list"
   ]
  },
  {
   "cell_type": "code",
   "execution_count": 242,
   "metadata": {},
   "outputs": [
    {
     "data": {
      "text/plain": [
       "[[1, 1156],\n",
       " [2, 359],\n",
       " [3, 163],\n",
       " [4, 75],\n",
       " [5, 60],\n",
       " [6, 60],\n",
       " [7, 29],\n",
       " [8, 32],\n",
       " [9, 19],\n",
       " [10, 17],\n",
       " [11, 19],\n",
       " [12, 11],\n",
       " [13, 7],\n",
       " [14, 4],\n",
       " [15, 9],\n",
       " [16, 2],\n",
       " [17, 3],\n",
       " [18, 7],\n",
       " [19, 3],\n",
       " [20, 2],\n",
       " [21, 1],\n",
       " [22, 3],\n",
       " [23, 8],\n",
       " [25, 1],\n",
       " [26, 1],\n",
       " [28, 2],\n",
       " [29, 1],\n",
       " [30, 2],\n",
       " [31, 2],\n",
       " [33, 2],\n",
       " [34, 1],\n",
       " [35, 1],\n",
       " [36, 1],\n",
       " [37, 1],\n",
       " [43, 3],\n",
       " [44, 1],\n",
       " [47, 1],\n",
       " [55, 2],\n",
       " [61, 1],\n",
       " [62, 1],\n",
       " [71, 2],\n",
       " [83, 1],\n",
       " [107, 1],\n",
       " [128, 1],\n",
       " [287, 1]]"
      ]
     },
     "execution_count": 242,
     "metadata": {},
     "output_type": "execute_result"
    }
   ],
   "source": [
    "p_list"
   ]
  },
  {
   "cell_type": "code",
   "execution_count": 239,
   "metadata": {},
   "outputs": [],
   "source": [
    "c_list.sort()"
   ]
  },
  {
   "cell_type": "code",
   "execution_count": 237,
   "metadata": {},
   "outputs": [],
   "source": [
    "for i in range(len(c_list)):\n",
    "    c_list[i][0] = int(c_list[i][0])\n",
    "    "
   ]
  },
  {
   "cell_type": "code",
   "execution_count": 222,
   "metadata": {},
   "outputs": [],
   "source": [
    "for i in range(len(c_keys)):\n",
    "    c_keys[i] = int(c_keys[i])\n",
    "    "
   ]
  },
  {
   "cell_type": "code",
   "execution_count": 233,
   "metadata": {},
   "outputs": [
    {
     "data": {
      "text/plain": [
       "[128.0,\n",
       " 1.0,\n",
       " 2.0,\n",
       " 3.0,\n",
       " 4.0,\n",
       " 5.0,\n",
       " 6.0,\n",
       " 7.0,\n",
       " 8.0,\n",
       " 9.0,\n",
       " 10.0,\n",
       " 11.0,\n",
       " 12.0,\n",
       " 13.0,\n",
       " 14.0,\n",
       " 15.0,\n",
       " 16.0,\n",
       " 17.0,\n",
       " 18.0,\n",
       " 19.0,\n",
       " 20.0,\n",
       " 21.0,\n",
       " 22.0,\n",
       " 23.0,\n",
       " 25.0,\n",
       " 26.0,\n",
       " 28.0,\n",
       " 29.0,\n",
       " 30.0,\n",
       " 31.0,\n",
       " 33.0,\n",
       " 34.0,\n",
       " 35.0,\n",
       " 36.0,\n",
       " 37.0,\n",
       " 43.0,\n",
       " 44.0,\n",
       " 47.0,\n",
       " 55.0,\n",
       " 287.0,\n",
       " 61.0,\n",
       " 62.0,\n",
       " 71.0,\n",
       " 83.0,\n",
       " 107.0]"
      ]
     },
     "execution_count": 233,
     "metadata": {},
     "output_type": "execute_result"
    }
   ],
   "source": [
    "c.keys()"
   ]
  },
  {
   "cell_type": "code",
   "execution_count": 225,
   "metadata": {},
   "outputs": [
    {
     "data": {
      "text/plain": [
       "[1,\n",
       " 2,\n",
       " 3,\n",
       " 4,\n",
       " 5,\n",
       " 6,\n",
       " 7,\n",
       " 8,\n",
       " 9,\n",
       " 10,\n",
       " 11,\n",
       " 12,\n",
       " 13,\n",
       " 14,\n",
       " 15,\n",
       " 16,\n",
       " 17,\n",
       " 18,\n",
       " 19,\n",
       " 20,\n",
       " 21,\n",
       " 22,\n",
       " 23,\n",
       " 25,\n",
       " 26,\n",
       " 28,\n",
       " 29,\n",
       " 30,\n",
       " 31,\n",
       " 33,\n",
       " 34,\n",
       " 35,\n",
       " 36,\n",
       " 37,\n",
       " 43,\n",
       " 44,\n",
       " 47,\n",
       " 55,\n",
       " 61,\n",
       " 62,\n",
       " 71,\n",
       " 83,\n",
       " 107,\n",
       " 128,\n",
       " 287]"
      ]
     },
     "execution_count": 225,
     "metadata": {},
     "output_type": "execute_result"
    }
   ],
   "source": []
  },
  {
   "cell_type": "code",
   "execution_count": 194,
   "metadata": {},
   "outputs": [
    {
     "data": {
      "text/plain": [
       "['Annotation',\n",
       " 'Arrow',\n",
       " 'Artist',\n",
       " 'AutoLocator',\n",
       " 'Axes',\n",
       " 'Button',\n",
       " 'Circle',\n",
       " 'Figure',\n",
       " 'FigureCanvasBase',\n",
       " 'FixedFormatter',\n",
       " 'FixedLocator',\n",
       " 'FormatStrFormatter',\n",
       " 'Formatter',\n",
       " 'FuncFormatter',\n",
       " 'GridSpec',\n",
       " 'IndexLocator',\n",
       " 'Line2D',\n",
       " 'LinearLocator',\n",
       " 'Locator',\n",
       " 'LogFormatter',\n",
       " 'LogFormatterExponent',\n",
       " 'LogFormatterMathtext',\n",
       " 'LogLocator',\n",
       " 'MaxNLocator',\n",
       " 'MultipleLocator',\n",
       " 'Normalize',\n",
       " 'NullFormatter',\n",
       " 'NullLocator',\n",
       " 'PolarAxes',\n",
       " 'Polygon',\n",
       " 'Rectangle',\n",
       " 'ScalarFormatter',\n",
       " 'Slider',\n",
       " 'Subplot',\n",
       " 'SubplotTool',\n",
       " 'Text',\n",
       " 'TickHelper',\n",
       " 'Widget',\n",
       " '_INSTALL_FIG_OBSERVER',\n",
       " '_IP_REGISTERED',\n",
       " '__builtins__',\n",
       " '__doc__',\n",
       " '__file__',\n",
       " '__name__',\n",
       " '__package__',\n",
       " '_auto_draw_if_interactive',\n",
       " '_autogen_docstring',\n",
       " '_backend_mod',\n",
       " '_backend_selection',\n",
       " '_hold_msg',\n",
       " '_imread',\n",
       " '_imsave',\n",
       " '_interactive_bk',\n",
       " '_pylab_helpers',\n",
       " '_setp',\n",
       " '_setup_pyplot_info_docstrings',\n",
       " '_show',\n",
       " '_string_to_bool',\n",
       " 'absolute_import',\n",
       " 'acorr',\n",
       " 'angle_spectrum',\n",
       " 'annotate',\n",
       " 'arrow',\n",
       " 'autoscale',\n",
       " 'autumn',\n",
       " 'axes',\n",
       " 'axhline',\n",
       " 'axhspan',\n",
       " 'axis',\n",
       " 'axvline',\n",
       " 'axvspan',\n",
       " 'bar',\n",
       " 'barbs',\n",
       " 'barh',\n",
       " 'bone',\n",
       " 'box',\n",
       " 'boxplot',\n",
       " 'broken_barh',\n",
       " 'cla',\n",
       " 'clabel',\n",
       " 'clf',\n",
       " 'clim',\n",
       " 'close',\n",
       " 'cm',\n",
       " 'cohere',\n",
       " 'colorbar',\n",
       " 'colormaps',\n",
       " 'colors',\n",
       " 'connect',\n",
       " 'contour',\n",
       " 'contourf',\n",
       " 'cool',\n",
       " 'copper',\n",
       " 'csd',\n",
       " 'cycler',\n",
       " 'dedent',\n",
       " 'delaxes',\n",
       " 'deprecated',\n",
       " 'disconnect',\n",
       " 'division',\n",
       " 'docstring',\n",
       " 'draw',\n",
       " 'draw_all',\n",
       " 'draw_if_interactive',\n",
       " 'errorbar',\n",
       " 'eventplot',\n",
       " 'figaspect',\n",
       " 'figimage',\n",
       " 'figlegend',\n",
       " 'fignum_exists',\n",
       " 'figtext',\n",
       " 'figure',\n",
       " 'fill',\n",
       " 'fill_between',\n",
       " 'fill_betweenx',\n",
       " 'findobj',\n",
       " 'flag',\n",
       " 'gca',\n",
       " 'gcf',\n",
       " 'gci',\n",
       " 'get',\n",
       " 'get_backend',\n",
       " 'get_cmap',\n",
       " 'get_current_fig_manager',\n",
       " 'get_figlabels',\n",
       " 'get_fignums',\n",
       " 'get_plot_commands',\n",
       " 'get_scale_docs',\n",
       " 'get_scale_names',\n",
       " 'getp',\n",
       " 'ginput',\n",
       " 'gray',\n",
       " 'grid',\n",
       " 'hexbin',\n",
       " 'hist',\n",
       " 'hist2d',\n",
       " 'hlines',\n",
       " 'hold',\n",
       " 'hot',\n",
       " 'hsv',\n",
       " 'imread',\n",
       " 'imsave',\n",
       " 'imshow',\n",
       " 'inferno',\n",
       " 'install_repl_displayhook',\n",
       " 'interactive',\n",
       " 'ioff',\n",
       " 'ion',\n",
       " 'is_numlike',\n",
       " 'ishold',\n",
       " 'isinteractive',\n",
       " 'jet',\n",
       " 'legend',\n",
       " 'locator_params',\n",
       " 'loglog',\n",
       " 'magma',\n",
       " 'magnitude_spectrum',\n",
       " 'margins',\n",
       " 'matplotlib',\n",
       " 'matshow',\n",
       " 'minorticks_off',\n",
       " 'minorticks_on',\n",
       " 'mlab',\n",
       " 'new_figure_manager',\n",
       " 'nipy_spectral',\n",
       " 'np',\n",
       " 'over',\n",
       " 'pause',\n",
       " 'pcolor',\n",
       " 'pcolormesh',\n",
       " 'phase_spectrum',\n",
       " 'pie',\n",
       " 'pink',\n",
       " 'plasma',\n",
       " 'plot',\n",
       " 'plot_date',\n",
       " 'plotfile',\n",
       " 'plotting',\n",
       " 'polar',\n",
       " 'print_function',\n",
       " 'prism',\n",
       " 'psd',\n",
       " 'pylab_setup',\n",
       " 'quiver',\n",
       " 'quiverkey',\n",
       " 'rc',\n",
       " 'rcParams',\n",
       " 'rcParamsDefault',\n",
       " 'rc_context',\n",
       " 'rcdefaults',\n",
       " 'register_cmap',\n",
       " 'rgrids',\n",
       " 'savefig',\n",
       " 'sca',\n",
       " 'scatter',\n",
       " 'sci',\n",
       " 'semilogx',\n",
       " 'semilogy',\n",
       " 'set_cmap',\n",
       " 'setp',\n",
       " 'show',\n",
       " 'silent_list',\n",
       " 'six',\n",
       " 'specgram',\n",
       " 'spectral',\n",
       " 'spring',\n",
       " 'spy',\n",
       " 'stackplot',\n",
       " 'stem',\n",
       " 'step',\n",
       " 'streamplot',\n",
       " 'style',\n",
       " 'subplot',\n",
       " 'subplot2grid',\n",
       " 'subplot_tool',\n",
       " 'subplots',\n",
       " 'subplots_adjust',\n",
       " 'summer',\n",
       " 'suptitle',\n",
       " 'switch_backend',\n",
       " 'sys',\n",
       " 'table',\n",
       " 'text',\n",
       " 'thetagrids',\n",
       " 'tick_params',\n",
       " 'ticklabel_format',\n",
       " 'tight_layout',\n",
       " 'time',\n",
       " 'title',\n",
       " 'tricontour',\n",
       " 'tricontourf',\n",
       " 'tripcolor',\n",
       " 'triplot',\n",
       " 'twinx',\n",
       " 'twiny',\n",
       " 'unicode_literals',\n",
       " 'uninstall_repl_displayhook',\n",
       " 'violinplot',\n",
       " 'viridis',\n",
       " 'vlines',\n",
       " 'waitforbuttonpress',\n",
       " 'warn_deprecated',\n",
       " 'warnings',\n",
       " 'winter',\n",
       " 'xcorr',\n",
       " 'xkcd',\n",
       " 'xlabel',\n",
       " 'xlim',\n",
       " 'xscale',\n",
       " 'xticks',\n",
       " 'ylabel',\n",
       " 'ylim',\n",
       " 'yscale',\n",
       " 'yticks']"
      ]
     },
     "execution_count": 194,
     "metadata": {},
     "output_type": "execute_result"
    }
   ],
   "source": [
    "dir(plt)"
   ]
  },
  {
   "cell_type": "code",
   "execution_count": null,
   "metadata": {},
   "outputs": [],
   "source": []
  },
  {
   "cell_type": "code",
   "execution_count": null,
   "metadata": {},
   "outputs": [],
   "source": []
  }
 ],
 "metadata": {
  "kernelspec": {
   "display_name": "Python 2",
   "language": "python",
   "name": "python2"
  },
  "language_info": {
   "codemirror_mode": {
    "name": "ipython",
    "version": 2
   },
   "file_extension": ".py",
   "mimetype": "text/x-python",
   "name": "python",
   "nbconvert_exporter": "python",
   "pygments_lexer": "ipython2",
   "version": "2.7.15"
  }
 },
 "nbformat": 4,
 "nbformat_minor": 2
}
